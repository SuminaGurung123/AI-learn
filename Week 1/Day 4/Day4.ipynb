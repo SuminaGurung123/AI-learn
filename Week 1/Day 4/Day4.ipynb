{
  "nbformat": 4,
  "nbformat_minor": 0,
  "metadata": {
    "colab": {
      "provenance": [],
      "toc_visible": true
    },
    "kernelspec": {
      "name": "python3",
      "display_name": "Python 3"
    },
    "language_info": {
      "name": "python"
    }
  },
  "cells": [
    {
      "cell_type": "markdown",
      "source": [
        "#Day 4\n"
      ],
      "metadata": {
        "id": "n74iIKh533ja"
      }
    },
    {
      "cell_type": "markdown",
      "source": [
        "#FILE HANDLING AND EXCEPTION"
      ],
      "metadata": {
        "id": "wNBCOunH4ZMj"
      }
    },
    {
      "cell_type": "code",
      "source": [
        "f=open(\"file.txt\",\"r\")\n",
        "print(f.read())\n",
        "f.close()"
      ],
      "metadata": {
        "colab": {
          "base_uri": "https://localhost:8080/"
        },
        "id": "wvfF_WJq37Rt",
        "outputId": "56ea1448-6d17-4876-d0ad-35b44fd5c007"
      },
      "execution_count": 5,
      "outputs": [
        {
          "output_type": "stream",
          "name": "stdout",
          "text": [
            "Hello \n",
            "My name is sumina\n"
          ]
        }
      ]
    },
    {
      "cell_type": "code",
      "source": [
        "f=open(\"file.txt\",\"r\")\n",
        "print(f.readline())\n",
        "f.close()"
      ],
      "metadata": {
        "colab": {
          "base_uri": "https://localhost:8080/"
        },
        "id": "KEMNfkew5Q7i",
        "outputId": "0784764b-28bc-4914-d4b0-142d3a4668a8"
      },
      "execution_count": 2,
      "outputs": [
        {
          "output_type": "stream",
          "name": "stdout",
          "text": [
            "Hello \n",
            "\n"
          ]
        }
      ]
    },
    {
      "cell_type": "code",
      "source": [
        "f=open(\"file.txt\",\"r\")\n",
        "print(f.read(5))\n",
        "f.close()"
      ],
      "metadata": {
        "colab": {
          "base_uri": "https://localhost:8080/"
        },
        "id": "fePbgq0I5j-b",
        "outputId": "3902b7ed-3f8e-44ee-92e1-2105e916cc8b"
      },
      "execution_count": 4,
      "outputs": [
        {
          "output_type": "stream",
          "name": "stdout",
          "text": [
            "Hello\n"
          ]
        }
      ]
    },
    {
      "cell_type": "code",
      "source": [
        "with open(\"file.txt\",\"r\") as f:#use with\n",
        "  print(f.read())"
      ],
      "metadata": {
        "colab": {
          "base_uri": "https://localhost:8080/"
        },
        "id": "b-c6bByu52Fw",
        "outputId": "9f951760-25e2-4c51-ad5d-7e5517c13dfb"
      },
      "execution_count": 7,
      "outputs": [
        {
          "output_type": "stream",
          "name": "stdout",
          "text": [
            "Hello \n",
            "My name is sumina\n"
          ]
        }
      ]
    },
    {
      "cell_type": "code",
      "source": [
        "f=open(\"file.txt\",\"w\")\n",
        "print(f.write(\"good\"))\n",
        "f.close()"
      ],
      "metadata": {
        "colab": {
          "base_uri": "https://localhost:8080/"
        },
        "id": "Go11sF4e6fGO",
        "outputId": "477cbd11-d47c-40f3-f7fe-9a67615de6c3"
      },
      "execution_count": 8,
      "outputs": [
        {
          "output_type": "stream",
          "name": "stdout",
          "text": [
            "4\n"
          ]
        }
      ]
    },
    {
      "cell_type": "code",
      "source": [
        "with open(\"file.txt\",\"w\") as f:\n",
        "  print(f.write(\"come\"))"
      ],
      "metadata": {
        "colab": {
          "base_uri": "https://localhost:8080/"
        },
        "id": "4d5RZ7LT6-BX",
        "outputId": "1e8ba0a4-0b60-4680-d1c1-5c827a05a5a5"
      },
      "execution_count": 11,
      "outputs": [
        {
          "output_type": "stream",
          "name": "stdout",
          "text": [
            "4\n"
          ]
        }
      ]
    },
    {
      "cell_type": "code",
      "source": [
        "f=open(\"file.txt\",\"a\")\n",
        "print(f.write(\"\\tgood\"))\n",
        "f.close()"
      ],
      "metadata": {
        "colab": {
          "base_uri": "https://localhost:8080/"
        },
        "id": "3YDxeMFF7VC7",
        "outputId": "283328eb-5cc7-4d55-da90-f0a2efcc306d"
      },
      "execution_count": 14,
      "outputs": [
        {
          "output_type": "stream",
          "name": "stdout",
          "text": [
            "5\n"
          ]
        }
      ]
    },
    {
      "cell_type": "markdown",
      "source": [
        "##DELETE FILE"
      ],
      "metadata": {
        "id": "QIv0HwYX8C7G"
      }
    },
    {
      "cell_type": "code",
      "source": [
        "import os\n",
        "#os.remove(\"file.txt\") remove file\n",
        "#os.rmdir(\"/content/delete\")#remove folder"
      ],
      "metadata": {
        "id": "dPejNOKR7nMq"
      },
      "execution_count": 17,
      "outputs": []
    },
    {
      "cell_type": "code",
      "source": [
        "with open(\"data.txt\",\"r\") as f:\n",
        "  print(f.read())"
      ],
      "metadata": {
        "colab": {
          "base_uri": "https://localhost:8080/"
        },
        "id": "m7FEXZ9H8NU9",
        "outputId": "1963646c-b2cc-42e1-b3dc-c30d8e73b1e5"
      },
      "execution_count": 18,
      "outputs": [
        {
          "output_type": "stream",
          "name": "stdout",
          "text": [
            "hello world \n",
            "\n"
          ]
        }
      ]
    },
    {
      "cell_type": "code",
      "source": [
        "name=str(input(\"Enter your name:\"))\n",
        "with open(\"user.txt\",\"w\") as f:\n",
        "  print(f.write(name))"
      ],
      "metadata": {
        "colab": {
          "base_uri": "https://localhost:8080/"
        },
        "id": "uTy0Vdpy9_aj",
        "outputId": "dc37b2da-e1f4-44a0-9547-8749cc01602d"
      },
      "execution_count": 19,
      "outputs": [
        {
          "output_type": "stream",
          "name": "stdout",
          "text": [
            "Enter your name:sumina\n",
            "6\n"
          ]
        }
      ]
    },
    {
      "cell_type": "code",
      "source": [
        "with open(\"user.txt\",\"r\") as f:\n",
        "  data=len(f.read())\n",
        "  print(data)"
      ],
      "metadata": {
        "colab": {
          "base_uri": "https://localhost:8080/"
        },
        "id": "2fEc3qjn-ZJl",
        "outputId": "1aed5910-b0ff-497e-f3a4-bda4497e4e3d"
      },
      "execution_count": 25,
      "outputs": [
        {
          "output_type": "stream",
          "name": "stdout",
          "text": [
            "6\n"
          ]
        }
      ]
    },
    {
      "cell_type": "code",
      "source": [
        "data=str(input(\"Enter data:\"))\n",
        "with open(\"user.txt\",\"a\") as f:\n",
        "  print(f.write(data))"
      ],
      "metadata": {
        "colab": {
          "base_uri": "https://localhost:8080/"
        },
        "id": "Tvz4Hnas-3bH",
        "outputId": "4ae8f502-e52b-4a18-d34f-ecda11967c9a"
      },
      "execution_count": 26,
      "outputs": [
        {
          "output_type": "stream",
          "name": "stdout",
          "text": [
            "Enter data:gurung\n",
            "6\n"
          ]
        }
      ]
    },
    {
      "cell_type": "code",
      "source": [
        "with open(\"number.txt\", \"r\") as file:\n",
        "    for line in file:\n",
        "        words = line.split()\n",
        "        for word in words:\n",
        "                # Try converting each word to a float\n",
        "                num = float(word)\n",
        "                total += num\n",
        "\n",
        "print(\"Total sum:\", total)"
      ],
      "metadata": {
        "colab": {
          "base_uri": "https://localhost:8080/"
        },
        "id": "6jmdnX_D_qDu",
        "outputId": "0cf81c1c-e7b7-49c9-e4fe-94b98ad6b27e"
      },
      "execution_count": 46,
      "outputs": [
        {
          "output_type": "stream",
          "name": "stdout",
          "text": [
            "Total sum: 19.0\n"
          ]
        }
      ]
    },
    {
      "cell_type": "markdown",
      "source": [
        "##EXCEPTION HANDLING"
      ],
      "metadata": {
        "id": "G9_YsdmCECH5"
      }
    },
    {
      "cell_type": "code",
      "source": [
        "try:\n",
        "  print(a)\n",
        "except NameError:\n",
        "  print(\"error\")"
      ],
      "metadata": {
        "colab": {
          "base_uri": "https://localhost:8080/"
        },
        "id": "5V6V8c4qAN6z",
        "outputId": "b38818b4-69f0-487f-fc3b-d252eda1ac38"
      },
      "execution_count": 48,
      "outputs": [
        {
          "output_type": "stream",
          "name": "stdout",
          "text": [
            "error\n"
          ]
        }
      ]
    },
    {
      "cell_type": "code",
      "source": [],
      "metadata": {
        "id": "0428BUw5EwZ-"
      },
      "execution_count": null,
      "outputs": []
    }
  ]
}