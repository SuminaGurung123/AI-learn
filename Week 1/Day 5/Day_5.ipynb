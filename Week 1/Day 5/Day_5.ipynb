{
  "nbformat": 4,
  "nbformat_minor": 0,
  "metadata": {
    "colab": {
      "provenance": []
    },
    "kernelspec": {
      "name": "python3",
      "display_name": "Python 3"
    },
    "language_info": {
      "name": "python"
    }
  },
  "cells": [
    {
      "cell_type": "markdown",
      "source": [
        "#DAY 5"
      ],
      "metadata": {
        "id": "i6YbNzt04XxS"
      }
    },
    {
      "cell_type": "markdown",
      "source": [
        "CREATING A NUMPY ARRAY AND ITS ATTRIBUTES"
      ],
      "metadata": {
        "id": "XQeCbvv-4i9Z"
      }
    },
    {
      "cell_type": "code",
      "execution_count": 4,
      "metadata": {
        "colab": {
          "base_uri": "https://localhost:8080/"
        },
        "id": "eomMbBlI4Wv4",
        "outputId": "58a9053f-c46f-474e-a1c5-52ef8c03fd32"
      },
      "outputs": [
        {
          "output_type": "stream",
          "name": "stdout",
          "text": [
            "[1 2 3 4 5]\n",
            "10\n",
            "[1 2 3 4 5]\n",
            "[[1 2 3]\n",
            " [4 5 6]]\n",
            "[[1 2 3]\n",
            " [4 5 6]\n",
            " [7 8 9]]\n"
          ]
        }
      ],
      "source": [
        "import numpy as np\n",
        "array=np.array([1,2,3,4,5])\n",
        "print(array)\n",
        "\n",
        "#0-D array\n",
        "zeroarray=np.array(10)\n",
        "print(zeroarray)\n",
        "\n",
        "#1-D array\n",
        "onedarray=np.array([1,2,3,4,5])\n",
        "print(onedarray)\n",
        "\n",
        "#2-D array\n",
        "twodarray=np.array([[1,2,3],[4,5,6]])\n",
        "print(twodarray)\n",
        "\n",
        "#3-D array\n",
        "threedarray=np.array([[1,2,3],\n",
        "                        [4,5,6],\n",
        "                         [7,8,9]])\n",
        "print(threedarray)\n",
        "\n",
        "\n"
      ]
    },
    {
      "cell_type": "code",
      "source": [
        "#create attribute\n",
        "import numpy as np\n",
        "\n",
        "array=np.array([[1,2,3],[7,4,5]])\n",
        "print(array)\n",
        "print(array.ndim)\n",
        "print(array.shape)\n",
        "print(array.dtype)\n",
        "print(array.size)\n"
      ],
      "metadata": {
        "colab": {
          "base_uri": "https://localhost:8080/"
        },
        "id": "Efh0vmrn5Fq4",
        "outputId": "b4c88788-7c03-480e-ccb9-9a2418c057b9"
      },
      "execution_count": 7,
      "outputs": [
        {
          "output_type": "stream",
          "name": "stdout",
          "text": [
            "[[1 2 3]\n",
            " [7 4 5]]\n",
            "2\n",
            "(2, 3)\n",
            "int64\n",
            "6\n"
          ]
        }
      ]
    },
    {
      "cell_type": "code",
      "source": [
        "#ACCESSING AND MANIPULATING ARRAY ELEMENTS\n",
        "\n",
        "a=np.array([1,2,3,4,5])\n",
        "print(a[4])\n",
        "\n",
        "print(a[-1])#negative indexing\n",
        "\n",
        "\n"
      ],
      "metadata": {
        "colab": {
          "base_uri": "https://localhost:8080/"
        },
        "id": "9vkRF_MR77MK",
        "outputId": "7af1c974-40f0-47ef-c309-8f3c3ea0c9fa"
      },
      "execution_count": 9,
      "outputs": [
        {
          "output_type": "stream",
          "name": "stdout",
          "text": [
            "5\n",
            "5\n"
          ]
        }
      ]
    },
    {
      "cell_type": "code",
      "source": [
        "#for 2D array\n",
        "two=np.array([[1,2,3],[4,5,6]])\n",
        "print(two[1,2])\n",
        "print(two[0,2])"
      ],
      "metadata": {
        "colab": {
          "base_uri": "https://localhost:8080/"
        },
        "id": "aeIpmm0F9TOc",
        "outputId": "83a0d4de-44ba-4523-c85e-6402af7bcb8d"
      },
      "execution_count": 12,
      "outputs": [
        {
          "output_type": "stream",
          "name": "stdout",
          "text": [
            "6\n",
            "3\n"
          ]
        }
      ]
    },
    {
      "cell_type": "code",
      "source": [
        "#3-D Array\n",
        "three=np.array([[[1,2,3],[4,5,6]],[[7,8,9],[10,11,12]]])\n",
        "print(three[0,1,2])\n",
        "print(three[1,0,0])"
      ],
      "metadata": {
        "colab": {
          "base_uri": "https://localhost:8080/"
        },
        "id": "HOeBihlO9tRs",
        "outputId": "f418780a-2909-4cc4-9f1f-dfac11a6471f"
      },
      "execution_count": 14,
      "outputs": [
        {
          "output_type": "stream",
          "name": "stdout",
          "text": [
            "6\n",
            "7\n"
          ]
        }
      ]
    },
    {
      "cell_type": "code",
      "source": [
        " #SLICING ARRAY\n",
        "\n",
        "three_arr = np.array([[[1,2,3],[4,5,6]],[[7,8,9],[10,11,12]]]);\n",
        "print(three_arr[::-1])\n"
      ],
      "metadata": {
        "colab": {
          "base_uri": "https://localhost:8080/"
        },
        "id": "Juhgn7mV-r-2",
        "outputId": "2ce8515f-1ef7-439d-e027-d0d8235734f8"
      },
      "execution_count": 16,
      "outputs": [
        {
          "output_type": "stream",
          "name": "stdout",
          "text": [
            "[[[ 7  8  9]\n",
            "  [10 11 12]]\n",
            "\n",
            " [[ 1  2  3]\n",
            "  [ 4  5  6]]]\n"
          ]
        }
      ]
    },
    {
      "cell_type": "code",
      "source": [
        "array=np.array([1,2,3,4,5,6,7,8,9])\n",
        "print(array[0:4])\n",
        "print(array[::-1])\n",
        "print(array[0:9:2])\n",
        "print(array[1:9:2])"
      ],
      "metadata": {
        "colab": {
          "base_uri": "https://localhost:8080/"
        },
        "id": "ZEFwF0AKBEuh",
        "outputId": "d0def2fb-0320-47f8-e612-9f3e5e9e97d6"
      },
      "execution_count": 22,
      "outputs": [
        {
          "output_type": "stream",
          "name": "stdout",
          "text": [
            "[1 2 3 4]\n",
            "[9 8 7 6 5 4 3 2 1]\n",
            "[1 3 5 7 9]\n",
            "[2 4 6 8]\n"
          ]
        }
      ]
    },
    {
      "cell_type": "code",
      "source": [
        "array=np.array([[1,2,3],[4,5,6]])\n",
        "print(array[0,1:3])"
      ],
      "metadata": {
        "colab": {
          "base_uri": "https://localhost:8080/"
        },
        "id": "t3mstH2ZCX4H",
        "outputId": "c9b970b4-3f68-4b6a-bb21-0a5037333f13"
      },
      "execution_count": 24,
      "outputs": [
        {
          "output_type": "stream",
          "name": "stdout",
          "text": [
            "[2 3]\n"
          ]
        }
      ]
    },
    {
      "cell_type": "code",
      "source": [
        "np.ones((3,3))"
      ],
      "metadata": {
        "colab": {
          "base_uri": "https://localhost:8080/"
        },
        "id": "nncM3o3oFKKl",
        "outputId": "55b34693-30c4-41e2-a276-9a2566bf3b3b"
      },
      "execution_count": 26,
      "outputs": [
        {
          "output_type": "execute_result",
          "data": {
            "text/plain": [
              "array([[1., 1., 1.],\n",
              "       [1., 1., 1.],\n",
              "       [1., 1., 1.]])"
            ]
          },
          "metadata": {},
          "execution_count": 26
        }
      ]
    },
    {
      "cell_type": "code",
      "source": [
        "np.zeros((2,2))"
      ],
      "metadata": {
        "colab": {
          "base_uri": "https://localhost:8080/"
        },
        "id": "K7IFUN4gFMp1",
        "outputId": "c666ba24-d5d6-4dec-c1cd-54d10ca6f2d2"
      },
      "execution_count": 27,
      "outputs": [
        {
          "output_type": "execute_result",
          "data": {
            "text/plain": [
              "array([[0., 0.],\n",
              "       [0., 0.]])"
            ]
          },
          "metadata": {},
          "execution_count": 27
        }
      ]
    },
    {
      "cell_type": "code",
      "source": [
        "array=np.array([7,14,21,28])\n",
        "print(array)"
      ],
      "metadata": {
        "colab": {
          "base_uri": "https://localhost:8080/"
        },
        "id": "Uuaqx1J3FSCP",
        "outputId": "493db6ef-f6c0-4f3f-9384-9b7fbe368796"
      },
      "execution_count": 28,
      "outputs": [
        {
          "output_type": "stream",
          "name": "stdout",
          "text": [
            "[ 7 14 21 28]\n"
          ]
        }
      ]
    },
    {
      "cell_type": "code",
      "source": [
        "a=np.array([[5,10,15],[20,25,30]])\n",
        "print(a.shape)\n",
        "print(a.ndim)"
      ],
      "metadata": {
        "colab": {
          "base_uri": "https://localhost:8080/"
        },
        "id": "gQ8Q3_fTF3q2",
        "outputId": "adfbbf87-a953-4f2d-e72a-aed9c844dffa"
      },
      "execution_count": 35,
      "outputs": [
        {
          "output_type": "stream",
          "name": "stdout",
          "text": [
            "(2, 3)\n",
            "2\n"
          ]
        }
      ]
    },
    {
      "cell_type": "code",
      "source": [
        "a=np.zeros((2,3))\n",
        "print(a)\n",
        "b=np.arange(0,12,3)\n",
        "print(b)\n"
      ],
      "metadata": {
        "colab": {
          "base_uri": "https://localhost:8080/"
        },
        "id": "grWNpz7xGJxC",
        "outputId": "3c53a7fb-a3bd-417f-d1b5-b92c0ca37cc6"
      },
      "execution_count": 40,
      "outputs": [
        {
          "output_type": "stream",
          "name": "stdout",
          "text": [
            "[[0. 0. 0.]\n",
            " [0. 0. 0.]]\n",
            "[0 3 6 9]\n"
          ]
        }
      ]
    },
    {
      "cell_type": "code",
      "source": [
        "arr=np.array([2,3,6,8])\n",
        "print(arr*3)"
      ],
      "metadata": {
        "colab": {
          "base_uri": "https://localhost:8080/"
        },
        "id": "dGBgxUJPHcE2",
        "outputId": "85cb7b9d-09c6-4605-99f4-9ee443652afa"
      },
      "execution_count": 41,
      "outputs": [
        {
          "output_type": "stream",
          "name": "stdout",
          "text": [
            "[ 6  9 18 24]\n"
          ]
        }
      ]
    },
    {
      "cell_type": "code",
      "source": [
        "array=np.array([1,3,5,7,9,11])\n",
        "print(array[2])\n",
        "print(array[1:3])"
      ],
      "metadata": {
        "colab": {
          "base_uri": "https://localhost:8080/"
        },
        "id": "5oE54HsyHpP9",
        "outputId": "48c987c2-f86a-4610-e3d8-c8043e988aba"
      },
      "execution_count": 43,
      "outputs": [
        {
          "output_type": "stream",
          "name": "stdout",
          "text": [
            "5\n",
            "[3 5]\n"
          ]
        }
      ]
    },
    {
      "cell_type": "code",
      "source": [
        "arr=np.random.randint(0,10,size=(3,3))\n",
        "print(arr)"
      ],
      "metadata": {
        "colab": {
          "base_uri": "https://localhost:8080/"
        },
        "id": "pXkuIti9KvOq",
        "outputId": "0b0225ac-0369-40eb-caf7-3db2039f6d06"
      },
      "execution_count": 45,
      "outputs": [
        {
          "output_type": "stream",
          "name": "stdout",
          "text": [
            "[[9 8 8]\n",
            " [2 0 7]\n",
            " [0 7 0]]\n"
          ]
        }
      ]
    },
    {
      "cell_type": "code",
      "source": [
        "a=np.array([2,4,6,8])\n",
        "b=np.array([1,3,5,7])\n",
        "print(a+b)\n",
        "\n",
        "\n"
      ],
      "metadata": {
        "colab": {
          "base_uri": "https://localhost:8080/"
        },
        "id": "cod9IfmPLImo",
        "outputId": "529e5b98-1422-49ef-d06b-4afadfaae684"
      },
      "execution_count": 52,
      "outputs": [
        {
          "output_type": "stream",
          "name": "stdout",
          "text": [
            "[ 3  7 11 15]\n"
          ]
        }
      ]
    },
    {
      "cell_type": "code",
      "source": [
        "d=np.array([2,4,6,8])\n",
        "c=np.array([1,3,5,7])\n",
        "print(d*c)"
      ],
      "metadata": {
        "colab": {
          "base_uri": "https://localhost:8080/"
        },
        "id": "EUfVQkMMLdJN",
        "outputId": "1cf6307c-faec-496f-9c9d-e6a5b9e03618"
      },
      "execution_count": 54,
      "outputs": [
        {
          "output_type": "stream",
          "name": "stdout",
          "text": [
            "[ 2 12 30 56]\n"
          ]
        }
      ]
    },
    {
      "cell_type": "code",
      "source": [
        "arr=np.ones((4,3))\n",
        "\n",
        "print(arr)\n",
        "\n",
        "r=arr.reshape(3,4)\n",
        "\n",
        "print(r)"
      ],
      "metadata": {
        "colab": {
          "base_uri": "https://localhost:8080/"
        },
        "id": "ezNigohTLx_B",
        "outputId": "08970d4f-314e-4631-ad45-0e0d24fdbc86"
      },
      "execution_count": 59,
      "outputs": [
        {
          "output_type": "stream",
          "name": "stdout",
          "text": [
            "[[1. 1. 1.]\n",
            " [1. 1. 1.]\n",
            " [1. 1. 1.]\n",
            " [1. 1. 1.]]\n",
            "[[1. 1. 1. 1.]\n",
            " [1. 1. 1. 1.]\n",
            " [1. 1. 1. 1.]]\n"
          ]
        }
      ]
    },
    {
      "cell_type": "code",
      "source": [
        "array=np.array([[1,2,3],[4,5,6],[7,8,9]])\n",
        "a=array[1,0:]\n",
        "mean=np.mean(a)\n",
        "print(mean)\n",
        "print(a)\n",
        "\n",
        "reshape=array.reshape(-1)\n",
        "print(reshape)\n"
      ],
      "metadata": {
        "colab": {
          "base_uri": "https://localhost:8080/"
        },
        "id": "QguGK7NdNzeM",
        "outputId": "1b420bf1-b5e3-4781-dbbb-0bf452cccf5c"
      },
      "execution_count": 66,
      "outputs": [
        {
          "output_type": "stream",
          "name": "stdout",
          "text": [
            "5.0\n",
            "[4 5 6]\n",
            "[1 2 3 4 5 6 7 8 9]\n"
          ]
        }
      ]
    },
    {
      "cell_type": "code",
      "source": [
        "array=np.array([10,20,30,40,50,60])\n",
        "m=array > 30\n",
        "print(m)\n",
        "print(array)"
      ],
      "metadata": {
        "colab": {
          "base_uri": "https://localhost:8080/"
        },
        "id": "LXSH4M6DPlg5",
        "outputId": "f367cc26-6dd7-43c2-e5b4-4a2187d39b38"
      },
      "execution_count": 72,
      "outputs": [
        {
          "output_type": "stream",
          "name": "stdout",
          "text": [
            "[False False False  True  True  True]\n",
            "[10 20 30 40 50 60]\n"
          ]
        }
      ]
    },
    {
      "cell_type": "code",
      "source": [
        ""
      ],
      "metadata": {
        "id": "Wd6elM1LQoaB"
      },
      "execution_count": null,
      "outputs": []
    }
  ]
}