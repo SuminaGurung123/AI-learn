{
  "nbformat": 4,
  "nbformat_minor": 0,
  "metadata": {
    "colab": {
      "provenance": []
    },
    "kernelspec": {
      "name": "python3",
      "display_name": "Python 3"
    },
    "language_info": {
      "name": "python"
    }
  },
  "cells": [
    {
      "cell_type": "markdown",
      "source": [
        "#Day 3"
      ],
      "metadata": {
        "id": "Jl_xtoIr5NTP"
      }
    },
    {
      "cell_type": "code",
      "source": [
        "\n",
        "text=\"  Hello Python  \"\n",
        "print(text)\n",
        "\n",
        "print(text.lower())\n",
        "print(text.strip())\n",
        "print(text.replace(\"Python\",\"java\"))\n",
        "\n",
        "#method chaining\n",
        "s=text.strip().split()#output in list\n",
        "print(s)\n",
        "\n",
        "join='-'.join(s)\n",
        "print(join)\n"
      ],
      "metadata": {
        "colab": {
          "base_uri": "https://localhost:8080/"
        },
        "id": "z1_r-Xhf5L3V",
        "outputId": "c5d6de54-f51a-48cd-c7f6-23f0c3c0a250"
      },
      "execution_count": 5,
      "outputs": [
        {
          "output_type": "stream",
          "name": "stdout",
          "text": [
            "  Hello Python  \n",
            "  hello python  \n",
            "Hello Python\n",
            "  Hello java  \n",
            "['Hello', 'Python']\n",
            "Hello-Python\n"
          ]
        }
      ]
    },
    {
      "cell_type": "markdown",
      "source": [
        "#MODULAR PROGRAMMING\n"
      ],
      "metadata": {
        "id": "Uhepi48qCxoN"
      }
    },
    {
      "cell_type": "code",
      "source": [
        "import math\n",
        "\n",
        "square=math.sqrt(25)\n",
        "print(int(square))\n",
        "\n",
        "#flooring and ceiling\n",
        "floor=math.floor(4.8)\n",
        "print(floor)\n",
        "\n",
        "ceil=math.ceil(4.8)\n",
        "print(ceil)"
      ],
      "metadata": {
        "colab": {
          "base_uri": "https://localhost:8080/"
        },
        "id": "a_ngXHg3BD_b",
        "outputId": "c02804fb-9879-4f0d-b564-ad4bc5581277"
      },
      "execution_count": 7,
      "outputs": [
        {
          "output_type": "stream",
          "name": "stdout",
          "text": [
            "5\n",
            "4\n",
            "5\n"
          ]
        }
      ]
    },
    {
      "cell_type": "markdown",
      "source": [
        "#MODULE ASIASING"
      ],
      "metadata": {
        "id": "g2XDezywEKJ9"
      }
    },
    {
      "cell_type": "code",
      "source": [
        "#import numpy as np\n"
      ],
      "metadata": {
        "id": "Qq7pFEkUDkbM"
      },
      "execution_count": 8,
      "outputs": []
    },
    {
      "cell_type": "markdown",
      "source": [
        "#VARIABLE ALIASING"
      ],
      "metadata": {
        "id": "tPj5-957Eji0"
      }
    },
    {
      "cell_type": "code",
      "source": [
        "a=[1,2,3]\n",
        "print(a)\n",
        "b=a\n",
        "b.append(4)\n",
        "print(a)\n",
        "print(b)\n"
      ],
      "metadata": {
        "colab": {
          "base_uri": "https://localhost:8080/"
        },
        "id": "PjXBlhRzEdLc",
        "outputId": "d7cdab55-e9a3-4103-97ef-a2c1a9a97029"
      },
      "execution_count": 10,
      "outputs": [
        {
          "output_type": "stream",
          "name": "stdout",
          "text": [
            "[1, 2, 3]\n",
            "[1, 2, 3, 4]\n",
            "[1, 2, 3, 4]\n"
          ]
        }
      ]
    },
    {
      "cell_type": "markdown",
      "source": [
        "#RANDOMS"
      ],
      "metadata": {
        "id": "P9goI8kpFRHg"
      }
    },
    {
      "cell_type": "code",
      "source": [
        "import random as rand\n",
        "\n",
        "print(rand.randint(1,10))#int\n",
        "\n",
        "print(rand.random())#float\n",
        "\n",
        "randomfloatinrange=rand.uniform(10.5,99.5)\n",
        "print(randomfloatinrange)\n",
        "\n"
      ],
      "metadata": {
        "colab": {
          "base_uri": "https://localhost:8080/"
        },
        "id": "AYenWihrE4I9",
        "outputId": "97904808-a0de-4043-d8e4-90e8538a8115"
      },
      "execution_count": 19,
      "outputs": [
        {
          "output_type": "stream",
          "name": "stdout",
          "text": [
            "6\n",
            "0.7005455319313721\n",
            "15.976925721090343\n"
          ]
        }
      ]
    },
    {
      "cell_type": "markdown",
      "source": [
        "#CUSTOM MODULE"
      ],
      "metadata": {
        "id": "OzkRzPwoHGvJ"
      }
    },
    {
      "cell_type": "code",
      "source": [
        "#demo.py\n",
        "%%writefile uss.py\n",
        "def add(a,b):\n",
        "  return a+b\n"
      ],
      "metadata": {
        "colab": {
          "base_uri": "https://localhost:8080/"
        },
        "id": "vwCfjbEOFmYm",
        "outputId": "ed69f6d3-a497-49ba-be13-969bb201f065"
      },
      "execution_count": 23,
      "outputs": [
        {
          "output_type": "stream",
          "name": "stdout",
          "text": [
            "Writing uss.py\n"
          ]
        }
      ]
    },
    {
      "cell_type": "code",
      "source": [
        "#main.py\n",
        "import uss\n",
        "r=uss.add(3,4)\n",
        "print(r)"
      ],
      "metadata": {
        "colab": {
          "base_uri": "https://localhost:8080/"
        },
        "id": "DAFCkgrFHg2X",
        "outputId": "bed8f8ae-0d1f-458f-ed63-e0d2e4c4eb20"
      },
      "execution_count": 26,
      "outputs": [
        {
          "output_type": "stream",
          "name": "stdout",
          "text": [
            "7\n"
          ]
        }
      ]
    },
    {
      "cell_type": "code",
      "source": [],
      "metadata": {
        "id": "I1q41JZGHsfU"
      },
      "execution_count": null,
      "outputs": []
    }
  ]
}