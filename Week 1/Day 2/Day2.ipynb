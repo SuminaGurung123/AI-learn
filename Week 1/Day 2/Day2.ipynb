{
  "nbformat": 4,
  "nbformat_minor": 0,
  "metadata": {
    "colab": {
      "provenance": []
    },
    "kernelspec": {
      "name": "python3",
      "display_name": "Python 3"
    },
    "language_info": {
      "name": "python"
    }
  },
  "cells": [
    {
      "cell_type": "markdown",
      "source": [
        "#**Day-1 Coding**"
      ],
      "metadata": {
        "id": "PjmznsVXr5qp"
      }
    },
    {
      "cell_type": "code",
      "execution_count": 1,
      "metadata": {
        "colab": {
          "base_uri": "https://localhost:8080/"
        },
        "id": "1XLz-7lTqxdw",
        "outputId": "4c5d9903-b210-4ee5-c1a7-32ce9c1e1741"
      },
      "outputs": [
        {
          "output_type": "stream",
          "name": "stdout",
          "text": [
            "Hello World\n"
          ]
        }
      ],
      "source": [
        "print(\"Hello World\")"
      ]
    },
    {
      "cell_type": "markdown",
      "source": [
        "#**Loop**"
      ],
      "metadata": {
        "id": "DXAMlQA9t1mu"
      }
    },
    {
      "cell_type": "code",
      "source": [
        "for i in range(1,11):\n",
        "  print(i)"
      ],
      "metadata": {
        "colab": {
          "base_uri": "https://localhost:8080/"
        },
        "id": "OYb_MuIksSmk",
        "outputId": "f4d4ea2b-98ea-4bbe-b12d-15dfb0ab2b4e"
      },
      "execution_count": 2,
      "outputs": [
        {
          "output_type": "stream",
          "name": "stdout",
          "text": [
            "1\n",
            "2\n",
            "3\n",
            "4\n",
            "5\n",
            "6\n",
            "7\n",
            "8\n",
            "9\n",
            "10\n"
          ]
        }
      ]
    },
    {
      "cell_type": "code",
      "source": [
        "for i in range(1,11):\n",
        "  print(i*i)"
      ],
      "metadata": {
        "colab": {
          "base_uri": "https://localhost:8080/"
        },
        "id": "FErs-BkjuFOq",
        "outputId": "27bf5222-a609-4e1f-a5fe-383ccc401c6c"
      },
      "execution_count": 3,
      "outputs": [
        {
          "output_type": "stream",
          "name": "stdout",
          "text": [
            "1\n",
            "4\n",
            "9\n",
            "16\n",
            "25\n",
            "36\n",
            "49\n",
            "64\n",
            "81\n",
            "100\n"
          ]
        }
      ]
    },
    {
      "cell_type": "code",
      "source": [
        "def cal_square(l):\n",
        "  return l*l\n",
        "\n",
        "  print(\"The area of Square:\",cal_square(5))"
      ],
      "metadata": {
        "id": "J1mmlQOOvUAs"
      },
      "execution_count": 7,
      "outputs": []
    },
    {
      "cell_type": "code",
      "source": [
        "def cal_square(l):\n",
        "  return l*l\n",
        "\n",
        "  print(\"The area of Square:\",cal_square(5))"
      ],
      "metadata": {
        "id": "qEsXlG7Dutzc"
      },
      "execution_count": 8,
      "outputs": []
    },
    {
      "cell_type": "code",
      "source": [],
      "metadata": {
        "id": "8zqdDz4Svb-l"
      },
      "execution_count": null,
      "outputs": []
    },
    {
      "cell_type": "code",
      "source": [
        "def cal_square(l):\n",
        "  return l*l\n",
        "\n",
        "print(\"The area of Square:\",cal_square(5))\n",
        "print(\"The area of Second Square:\",cal_square(8))"
      ],
      "metadata": {
        "colab": {
          "base_uri": "https://localhost:8080/"
        },
        "id": "yp7apwgVvNhJ",
        "outputId": "27001169-cc46-4e8f-dbf5-5d4ab89eed0e"
      },
      "execution_count": 11,
      "outputs": [
        {
          "output_type": "stream",
          "name": "stdout",
          "text": [
            "The area of Square: 25\n",
            "The area of Second Square: 64\n"
          ]
        }
      ]
    },
    {
      "cell_type": "markdown",
      "source": [
        "#**List**"
      ],
      "metadata": {
        "id": "EJDc3zvRwq_E"
      }
    },
    {
      "cell_type": "code",
      "source": [
        "fruits=[\"apple\",\"banana\",\"mango\",\"kiwi\",\"papaya\"]\n",
        "print(fruits)\n",
        "\n",
        "#accessing elements in list\n",
        "# print(fruits[0])\n",
        "# print(fruits[4])#access papaya or last element\n",
        "# print(fruits[-1])#method 2\n",
        "# print(fruits[2])\n",
        "\n",
        "\n",
        "# for fruit in fruits:\n",
        "#   print(fruit)\n",
        "\n",
        "#adding and removing\n",
        "fruits.append(\"orange\")\n",
        "print(fruits)\n",
        "\n",
        "fruits.remove(\"mango\")\n",
        "print(fruits)"
      ],
      "metadata": {
        "colab": {
          "base_uri": "https://localhost:8080/"
        },
        "id": "kuLCUS28vopV",
        "outputId": "f0238128-0645-4b96-d780-7cf3a691f22e"
      },
      "execution_count": 19,
      "outputs": [
        {
          "output_type": "stream",
          "name": "stdout",
          "text": [
            "['apple', 'banana', 'mango', 'kiwi', 'papaya']\n",
            "['apple', 'banana', 'mango', 'kiwi', 'papaya', 'orange']\n",
            "['apple', 'banana', 'kiwi', 'papaya', 'orange']\n"
          ]
        }
      ]
    },
    {
      "cell_type": "markdown",
      "source": [
        "#**Dictionary**"
      ],
      "metadata": {
        "id": "X2qAGpgTyzzL"
      }
    },
    {
      "cell_type": "code",
      "source": [
        "student={\n",
        "    \"name\":\"sumina\",\n",
        "    \"age\":7,\n",
        "    \"gender\":\"female\"}\n",
        "print(student)\n",
        "\n",
        "    #Accessing values\n",
        "print(student[\"name\"])\n",
        "print(student[\"age\"])\n",
        "\n",
        "#updating value\n",
        "student[\"gender\"]=\"male\"\n",
        "print(student)\n",
        "\n",
        "#new key and value\n",
        "student[\"country\"]=\"Nepal\"\n",
        "print(student)\n",
        "\n",
        "#deleting\n",
        "del student[\"name\"]\n",
        "print(student)\n",
        "\n"
      ],
      "metadata": {
        "colab": {
          "base_uri": "https://localhost:8080/",
          "height": 297
        },
        "id": "XdL6kSmxw9TF",
        "outputId": "4919e999-6a76-4ed5-d4cf-e2ab2bdad65c"
      },
      "execution_count": 29,
      "outputs": [
        {
          "output_type": "stream",
          "name": "stdout",
          "text": [
            "{'name': 'sumina', 'age': 7, 'gender': 'female'}\n",
            "sumina\n",
            "7\n",
            "{'name': 'sumina', 'age': 7, 'gender': 'male'}\n",
            "{'name': 'sumina', 'age': 7, 'gender': 'male', 'country': 'Nepal'}\n",
            "{'age': 7, 'gender': 'male', 'country': 'Nepal'}\n"
          ]
        },
        {
          "output_type": "error",
          "ename": "TypeError",
          "evalue": "'builtin_function_or_method' object is not subscriptable",
          "traceback": [
            "\u001b[0;31m---------------------------------------------------------------------------\u001b[0m",
            "\u001b[0;31mTypeError\u001b[0m                                 Traceback (most recent call last)",
            "\u001b[0;32m<ipython-input-29-54c691bc3d67>\u001b[0m in \u001b[0;36m<cell line: 0>\u001b[0;34m()\u001b[0m\n\u001b[1;32m     21\u001b[0m \u001b[0mprint\u001b[0m\u001b[0;34m(\u001b[0m\u001b[0mstudent\u001b[0m\u001b[0;34m)\u001b[0m\u001b[0;34m\u001b[0m\u001b[0;34m\u001b[0m\u001b[0m\n\u001b[1;32m     22\u001b[0m \u001b[0;34m\u001b[0m\u001b[0m\n\u001b[0;32m---> 23\u001b[0;31m \u001b[0mstudent\u001b[0m\u001b[0;34m.\u001b[0m\u001b[0mpop\u001b[0m\u001b[0;34m[\u001b[0m\u001b[0;34m\"age\"\u001b[0m\u001b[0;34m]\u001b[0m\u001b[0;34m\u001b[0m\u001b[0;34m\u001b[0m\u001b[0m\n\u001b[0m\u001b[1;32m     24\u001b[0m \u001b[0mprint\u001b[0m\u001b[0;34m(\u001b[0m\u001b[0mstudent\u001b[0m\u001b[0;34m)\u001b[0m\u001b[0;34m\u001b[0m\u001b[0;34m\u001b[0m\u001b[0m\n",
            "\u001b[0;31mTypeError\u001b[0m: 'builtin_function_or_method' object is not subscriptable"
          ]
        }
      ]
    },
    {
      "cell_type": "code",
      "source": [],
      "metadata": {
        "id": "Ml3zgBP_zTJk"
      },
      "execution_count": null,
      "outputs": []
    }
  ]
}