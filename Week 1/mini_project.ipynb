{
  "cells": [
    {
      "cell_type": "markdown",
      "metadata": {
        "id": "1uCk9X47QeUL"
      },
      "source": [
        "#mini ATM simulator"
      ]
    },
    {
      "cell_type": "markdown",
      "metadata": {
        "id": "Z6hsxFDfR6Kj"
      },
      "source": [
        "#**Nhuja workspace"
      ]
    },
    {
      "cell_type": "code",
      "execution_count": null,
      "metadata": {
        "colab": {
          "background_save": true,
          "base_uri": "https://localhost:8080/"
        },
        "id": "aYbez_BZEcef",
        "outputId": "ce302ea5-8016-41e3-ceb5-f30a2afda62f"
      },
      "outputs": [
        {
          "name": "stdout",
          "output_type": "stream",
          "text": [
            "/--ATM simulator--/\n",
            "1.Check balance\n",
            "2.Withdraw\n",
            "3.Deposit\n",
            "4.Exit\n",
            "\n",
            "\n"
          ]
        }
      ],
      "source": [
        "#Basic structure for ATM project\n",
        "balance=10000  #initial balance\n",
        "#creating loop to run the code continuously\n",
        "while True:\n",
        "  print(\"/--ATM simulator--/\")\n",
        "  print(\"1.Check balance\")\n",
        "  print(\"2.Withdraw\")\n",
        "  print(\"3.Deposit\")\n",
        "  print(\"4.Exit\\n\\n\")\n",
        "#creating the choices to choose from menu\n",
        "  choice=int(input(\"Enter your choice:\\n\"))\n",
        "\n",
        "#to check balance\n",
        "  if choice==1:\n",
        "    print(f\"Your balance is:{balance}\\n\")\n",
        "\n",
        "#to withdraw money\n",
        "  elif choice==2:\n",
        "    withdraw=int(input(\"Enter the amount to withdraw:\\n\"))\n",
        "    if withdraw>balance:\n",
        "\n",
        "\n",
        "#shows error if balance is insufficient\n",
        "      print(\"Insufficient balance!!!\\n\")\n",
        "    else:\n",
        "\n",
        "\n",
        "#shows the remaining amount after anount is withdrawn\n",
        "      balance-=withdraw\n",
        "      print(\"Your remaining balance is:\",balance,\"\\n\")\n",
        "\n",
        "\n",
        "#to deposite the amount\n",
        "  elif choice==3:\n",
        "    deposit=int(input(\"Enter the amount to deposit:\\n\"))\n",
        "    balance+=deposit\n",
        "    print(f\"Rs.{deposit} was added to your previous balance\\nYour updated balance is: Rs.{balance}\\n\")\n",
        "\n",
        "\n",
        "#exiting the program\n",
        "  elif(choice==4):\n",
        "    print(\"Thank you for using atm simulator\")\n",
        "    print(f\"You have Rs.{balance} remaining in your account!!!\\n\")\n",
        "    break\n",
        "\n",
        "\n",
        "#shows invalid if the user puts the invalid data\n",
        "  else:\n",
        "    print(\"Invalid option\")"
      ]
    },
    {
      "cell_type": "markdown",
      "metadata": {
        "id": "Ta_LRjWXX_IM"
      },
      "source": [
        "#Trying pin verification before entering ATM"
      ]
    },
    {
      "cell_type": "code",
      "execution_count": null,
      "metadata": {
        "colab": {
          "background_save": true,
          "base_uri": "https://localhost:8080/"
        },
        "id": "Q_p9-lQjRtFC",
        "outputId": "50f9ae46-434a-4e9c-b226-f09b86d58827"
      },
      "outputs": [
        {
          "name": "stdout",
          "output_type": "stream",
          "text": [
            "Welcome to ATM services\n",
            "/-- ATM Simulator --/\n",
            "1. Check balance\n",
            "2. Withdraw\n",
            "3. Deposit\n",
            "4. Exit\n",
            "\n",
            "Rs.1000 was added to your previous balance\n",
            "Your updated balance is: Rs.11000\n",
            "\n",
            "Welcome to ATM services\n",
            "/-- ATM Simulator --/\n",
            "1. Check balance\n",
            "2. Withdraw\n",
            "3. Deposit\n",
            "4. Exit\n",
            "\n"
          ]
        }
      ],
      "source": [
        "\n",
        "# initial balance\n",
        "balance = 10000\n",
        "\n",
        "#Grants users only 3 attempts are allowed\n",
        "count = 3\n",
        "\n",
        "\n",
        "#creating outer loop to enter pin for multiple times\n",
        "while True:\n",
        "    pin = int(input(\"Enter your pin:\\n\"))\n",
        "\n",
        "#checking entered pin is correct\n",
        "    if pin != 1234:\n",
        "        print(\"Invalid pin, try again!!\")\n",
        "\n",
        "#counting the number of attempts entering a pin\n",
        "        count -= 1\n",
        "        print(f\"{count} trials remaining!!\")\n",
        "\n",
        "\n",
        "#blockig the account after entering wrong pin multiple times\n",
        "        if count == 0:\n",
        "            print(\"Your card has been blocked\")\n",
        "            break\n",
        "    else:\n",
        "        # starts inner loop Main ATM operations after correct PIN\n",
        "        while True:\n",
        "            print(\"Welcome to ATM services\")\n",
        "            print(\"/-- ATM Simulator --/\")\n",
        "            print(\"1. Check balance\")\n",
        "            print(\"2. Withdraw\")\n",
        "            print(\"3. Deposit\")\n",
        "            print(\"4. Exit\\n\")\n",
        "\n",
        "\n",
        "#asks user to choose ATM machine functions\n",
        "            choice = int(input(\"Enter your choice:\\n\"))\n",
        "\n",
        "\n",
        "#shows current balance\n",
        "            if choice == 1:\n",
        "                print(f\"Your balance is: Rs.{balance}\\n\")\n",
        "\n",
        "\n",
        "#grants user to withdraw money\n",
        "            elif choice == 2:\n",
        "                withdraw = int(input(\"Enter the amount to withdraw:\\n\"))\n",
        "                if withdraw > balance:\n",
        "                    print(\"Insufficient balance!!!\\n\")\n",
        "                else:\n",
        "                    balance -= withdraw\n",
        "                    print(\"Your remaining balance is:\", balance, \"\\n\")\n",
        "\n",
        "\n",
        "\n",
        "#grants user to deposit the money\n",
        "            elif choice == 3:\n",
        "                deposit = int(input(\"Enter the amount to deposit:\\n\"))\n",
        "                balance += deposit\n",
        "                print(f\"Rs.{deposit} was added to your previous balance\\nYour updated balance is: Rs.{balance}\\n\")\n",
        "\n",
        "\n",
        "\n",
        "#exit the ATM machine program\n",
        "            elif choice == 4:\n",
        "                print(\"Thank you for using ATM simulator\")\n",
        "                print(f\"You have Rs.{balance} remaining in your account!!!\\n\")\n",
        "                # Breaks both inner and outer loop using nested breaks\n",
        "                break  # break inner loop\n",
        "        break  # break outer loop after inner is done\n"
      ]
    },
    {
      "cell_type": "markdown",
      "metadata": {
        "id": "N4MD453zGNaM"
      },
      "source": [
        "#Last update"
      ]
    },
    {
      "cell_type": "code",
      "execution_count": null,
      "metadata": {
        "id": "Xb0ZKgCNYpzl"
      },
      "outputs": [],
      "source": [
        "\n",
        "# initial balance\n",
        "balance = 10000\n",
        "#counting no. of pin tries\n",
        "count = 3\n",
        "#while loop to continue the program until user has pin attempts remaining.\n",
        "#or until user wants to use the ATM\n",
        "while True:\n",
        "    pin = int(input(\"🔒 Enter your PIN:\\n\"))\n",
        "    if pin != 1234:\n",
        "      #if pin is incorrect decrease no. of tries\n",
        "        count -= 1\n",
        "        print(\"❌ Invalid PIN. Try again!\")\n",
        "        print(f\"{count} attempt(s) remaining.\\n\")\n",
        "        if count == 0:\n",
        "            print(\"🚫 Your card has been blocked.\")\n",
        "            #End program if no attempts remaining\n",
        "            break\n",
        "    else:\n",
        "      #Enter ATM simulation if pin is correct\n",
        "        while True:\n",
        "            print(\"\\n✅ Welcome to ATM Services\")\n",
        "            print(\"––––––––––––––––––––––––––\")\n",
        "            print(\"1️⃣  Check Balance\")\n",
        "            print(\"2️⃣  Withdraw\")\n",
        "            print(\"3️⃣  Deposit\")\n",
        "            print(\"4️⃣  Exit\")\n",
        "            print(\"––––––––––––––––––––––––––\")\n",
        "\n",
        "            #ask user to choose ATM function\n",
        "            choice = int(input(\"Enter your choice: \"))\n",
        "            #Print the initial balance\n",
        "            if choice == 1:\n",
        "                print(f\"💰 Current Balance: Rs. {balance:,.0f}\\n\")\n",
        "\n",
        "            #lets user withdraw from the balance\n",
        "\n",
        "            elif choice == 2:\n",
        "                amount = int(input(\"Enter amount to withdraw: Rs. \"))\n",
        "                if amount > balance:\n",
        "                    print(\"❌ Insufficient Balance!\\n\")\n",
        "                else:\n",
        "                    balance -= amount\n",
        "                    print(f\"✅ Withdrawn: Rs. {amount:,.0f}\")\n",
        "                    print(f\"💼 New Balance: Rs. {balance:,.0f}\\n\")\n",
        "\n",
        "            #lets user deposit money in users balance\n",
        "\n",
        "            elif choice == 3:\n",
        "                amount = int(input(\"Enter amount to deposit: Rs. \"))\n",
        "                balance += amount\n",
        "                print(f\"✅ Deposited: Rs. {amount:,.0f}\")\n",
        "                print(f\"💼 New Balance: Rs. {balance:,.0f}\\n\")\n",
        "            #Exit the ATM simulation and End the program\n",
        "            elif choice == 4:\n",
        "                print(\"👋 Thank you for using the ATM.\")\n",
        "                print(f\"Final Balance: Rs. {balance:,.0f}\")\n",
        "                break\n",
        "            #if user tries option except(1-4)\n",
        "            else:\n",
        "                print(\"⚠️ Invalid choice. Please try again.\")\n",
        "        break"
      ]
    },
    {
      "cell_type": "markdown",
      "metadata": {
        "id": "8gSWQJs3S3eq"
      },
      "source": [
        "##sumina"
      ]
    },
    {
      "cell_type": "code",
      "execution_count": null,
      "metadata": {
        "colab": {
          "base_uri": "https://localhost:8080/"
        },
        "id": "6Epde1KhR3HS",
        "outputId": "dd0e026c-a6de-4e18-d8f5-d172f2bde1fb"
      },
      "outputs": [
        {
          "name": "stdout",
          "output_type": "stream",
          "text": [
            "Collecting mysql-connector-python\n",
            "  Downloading mysql_connector_python-9.3.0-cp311-cp311-manylinux_2_28_x86_64.whl.metadata (7.2 kB)\n",
            "Downloading mysql_connector_python-9.3.0-cp311-cp311-manylinux_2_28_x86_64.whl (33.9 MB)\n",
            "\u001b[2K   \u001b[90m━━━━━━━━━━━━━━━━━━━━━━━━━━━━━━━━━━━━━━━━\u001b[0m \u001b[32m33.9/33.9 MB\u001b[0m \u001b[31m49.7 MB/s\u001b[0m eta \u001b[36m0:00:00\u001b[0m\n",
            "\u001b[?25hInstalling collected packages: mysql-connector-python\n",
            "Successfully installed mysql-connector-python-9.3.0\n"
          ]
        }
      ],
      "source": [
        "!pip install mysql-connector-python"
      ]
    },
    {
      "cell_type": "code",
      "execution_count": null,
      "metadata": {
        "colab": {
          "base_uri": "https://localhost:8080/",
          "height": 384
        },
        "id": "lPGxaAFeRs2S",
        "outputId": "51d2047a-9af9-47a8-e3ed-7c87d4e22ead"
      },
      "outputs": [
        {
          "output_type": "error",
          "ename": "ModuleNotFoundError",
          "evalue": "No module named 'mysql'",
          "traceback": [
            "\u001b[0;31m---------------------------------------------------------------------------\u001b[0m",
            "\u001b[0;31mModuleNotFoundError\u001b[0m                       Traceback (most recent call last)",
            "\u001b[0;32m<ipython-input-1-b7f3ce408d2c>\u001b[0m in \u001b[0;36m<cell line: 0>\u001b[0;34m()\u001b[0m\n\u001b[0;32m----> 1\u001b[0;31m \u001b[0;32mimport\u001b[0m \u001b[0mmysql\u001b[0m\u001b[0;34m.\u001b[0m\u001b[0mconnector\u001b[0m  \u001b[0;31m# To connect with MySQL database\u001b[0m\u001b[0;34m\u001b[0m\u001b[0;34m\u001b[0m\u001b[0m\n\u001b[0m\u001b[1;32m      2\u001b[0m \u001b[0;34m\u001b[0m\u001b[0m\n\u001b[1;32m      3\u001b[0m \u001b[0;32mdef\u001b[0m \u001b[0matm\u001b[0m\u001b[0;34m(\u001b[0m\u001b[0;34m)\u001b[0m\u001b[0;34m:\u001b[0m\u001b[0;34m\u001b[0m\u001b[0;34m\u001b[0m\u001b[0m\n\u001b[1;32m      4\u001b[0m     \u001b[0;31m# Step 1: Connect to the MySQL database\u001b[0m\u001b[0;34m\u001b[0m\u001b[0;34m\u001b[0m\u001b[0m\n\u001b[1;32m      5\u001b[0m     conn = mysql.connector.connect(\n",
            "\u001b[0;31mModuleNotFoundError\u001b[0m: No module named 'mysql'",
            "",
            "\u001b[0;31m---------------------------------------------------------------------------\u001b[0;32m\nNOTE: If your import is failing due to a missing package, you can\nmanually install dependencies using either !pip or !apt.\n\nTo view examples of installing some common dependencies, click the\n\"Open Examples\" button below.\n\u001b[0;31m---------------------------------------------------------------------------\u001b[0m\n"
          ],
          "errorDetails": {
            "actions": [
              {
                "action": "open_url",
                "actionText": "Open Examples",
                "url": "/notebooks/snippets/importing_libraries.ipynb"
              }
            ]
          }
        }
      ],
      "source": [
        "import mysql.connector  # To connect with MySQL database\n",
        "\n",
        "def atm():\n",
        "    # Step 1: Connect to the MySQL database\n",
        "    conn = mysql.connector.connect(\n",
        "        host=\"localhost\",\n",
        "        user=\"root\",\n",
        "        password=\"\",         # MySQL password (empty if not set)\n",
        "        database=\"miniproject\"  # The database that stores user data\n",
        "    )\n",
        "    cursor = conn.cursor()  # Used to run SQL commands,retrive,stores ,manipulate data in database\n",
        "\n",
        "    # Step 2: Ask user to enter card number and PIN\n",
        "    print(\"Welcome to the ATM Simulator\")\n",
        "    card_number = input(\"Enter your card number: \")\n",
        "    pin = input(\"Enter your PIN: \")\n",
        "\n",
        "    # Step 3: Check if the card number and PIN are correct\n",
        "    cursor.execute(\"SELECT id, balance FROM users WHERE card_number = %s AND pin = %s\", (card_number, pin))\n",
        "    user = cursor.fetchone()  # Get the user record if found ,fetch the row\n",
        "\n",
        "    if user:\n",
        "        user_id, balance = user  # Extract user ID and balance\n",
        "        print(\"Login successful!\")\n",
        "\n",
        "        # Step 4: Show ATM options menu\n",
        "        while True:\n",
        "            print(\"\\n--- Menu ---\")\n",
        "            print(\"1. Check Balance\")\n",
        "            print(\"2. Deposit\")\n",
        "            print(\"3. Withdraw\")\n",
        "            print(\"4. Exit\")\n",
        "            print(\"5. Change PIN\")  # Option to change PIN\n",
        "\n",
        "            choice = input(\"Choose an option: \")\n",
        "\n",
        "            # Option 1: Show account balance\n",
        "            if choice == '1':\n",
        "                print(f\"Your balance is: Rs. {balance:.2f}\")\n",
        "\n",
        "            # Option 2: Deposit money into the account\n",
        "            elif choice == '2':\n",
        "                try:\n",
        "                    amt = float(input(\"Enter amount to deposit: \"))\n",
        "                    if amt <= 0:\n",
        "                        print(\"Enter a positive amount.\")\n",
        "                        continue\n",
        "                    balance += amt  # Add deposit to balance\n",
        "                    cursor.execute(\"UPDATE users SET balance = %s WHERE id = %s\", (balance, user_id))  # Save new balance\n",
        "                    conn.commit()  # Apply changes\n",
        "                    print(f\"Deposited Rs. {amt:.2f}. New balance: Rs. {balance:.2f}\")\n",
        "                except ValueError:\n",
        "                    print(\"Invalid input. Please enter a number.\")\n",
        "\n",
        "            # Option 3: Withdraw money\n",
        "            elif choice == '3':\n",
        "                try:\n",
        "                    amt = float(input(\"Enter amount to withdraw: \"))\n",
        "                    if amt <= 0:\n",
        "                        print(\"Enter a positive amount.\")\n",
        "                        continue\n",
        "                    if amt > balance:\n",
        "                        print(\"Insufficient balance.\")  # Not enough money\n",
        "                    else:\n",
        "                        balance -= amt  # Subtract from balance\n",
        "                        cursor.execute(\"UPDATE users SET balance = %s WHERE id = %s\", (balance, user_id))  # Save new balance\n",
        "                        conn.commit()#apply changes to database\n",
        "                        print(f\"Withdrew Rs. {amt:.2f}. New balance: Rs. {balance:.2f}\")\n",
        "                except ValueError:\n",
        "                    print(\"Invalid input. Please enter a number.\")\n",
        "\n",
        "            # Option 4: Exit the ATM\n",
        "            elif choice == '4':\n",
        "                print(\"Thank you for using the ATM Simulator.\")\n",
        "                break  # Exit the loop\n",
        "\n",
        "            # Option 5: Change PIN\n",
        "            elif choice == '5':\n",
        "                current_pin = input(\"Enter your current PIN: \")\n",
        "                if current_pin != pin:\n",
        "                    print(\"Incorrect current PIN.\")\n",
        "                else:\n",
        "                    new_pin = input(\"Enter new PIN: \")\n",
        "                    confirm_pin = input(\"Confirm new PIN: \")\n",
        "                    if new_pin != confirm_pin:\n",
        "                        print(\"PINs do not match.\")\n",
        "                    else:\n",
        "                        cursor.execute(\"UPDATE users SET pin = %s WHERE id = %s\", (new_pin, user_id))  # Save new PIN\n",
        "                        conn.commit()\n",
        "                        pin = new_pin  # Update current PIN in database\n",
        "                        print(\"PIN changed successfully.\")\n",
        "\n",
        "            # If user enters wrong menu option\n",
        "            else:\n",
        "                print(\"Invalid option. Please try again.\")\n",
        "\n",
        "    else:\n",
        "        # If login fails\n",
        "        print(\"Invalid card number or PIN.\")\n",
        "\n",
        "    # Step 5: Close the connection to the database\n",
        "    cursor.close()\n",
        "    conn.close()\n",
        "\n",
        "# Start the ATM program\n",
        "atm()\n"
      ]
    },
    {
      "cell_type": "code",
      "execution_count": null,
      "metadata": {
        "id": "UHpBwLVcGUiO"
      },
      "outputs": [],
      "source": []
    }
  ],
  "metadata": {
    "colab": {
      "provenance": []
    },
    "kernelspec": {
      "display_name": "Python 3",
      "name": "python3"
    },
    "language_info": {
      "name": "python"
    }
  },
  "nbformat": 4,
  "nbformat_minor": 0
}