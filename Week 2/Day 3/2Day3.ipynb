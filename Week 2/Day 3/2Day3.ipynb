{
  "nbformat": 4,
  "nbformat_minor": 0,
  "metadata": {
    "colab": {
      "provenance": []
    },
    "kernelspec": {
      "name": "python3",
      "display_name": "Python 3"
    },
    "language_info": {
      "name": "python"
    }
  },
  "cells": [
    {
      "cell_type": "markdown",
      "source": [
        "#Probability Basics in AI\n"
      ],
      "metadata": {
        "id": "BtvgaRgV-HoF"
      }
    },
    {
      "cell_type": "code",
      "execution_count": null,
      "metadata": {
        "colab": {
          "base_uri": "https://localhost:8080/"
        },
        "id": "k_ypNqlH-D7f",
        "outputId": "5c755355-0bab-4706-a711-62302eec4cfe"
      },
      "outputs": [
        {
          "output_type": "stream",
          "name": "stdout",
          "text": [
            "0.16666666666666666\n"
          ]
        }
      ],
      "source": [
        "favourable_outcome=1\n",
        "total_outcome=6\n",
        "\n",
        "probability=favourable_outcome/total_outcome\n",
        "print(probability)"
      ]
    },
    {
      "cell_type": "markdown",
      "source": [
        "##EXPERIMENTAL PROBABILITY"
      ],
      "metadata": {
        "id": "zVO-cWKNCl4D"
      }
    },
    {
      "cell_type": "code",
      "source": [
        "#probability of getting head while tossing the coin 100 times\n",
        "import random\n",
        "\n",
        "trial=100\n",
        "heads=0\n",
        "\n",
        "for i in range(trial):\n",
        "  if random.choice([\"Heads\",\"Tails\"])==\"Heads\":\n",
        "    heads+=1\n",
        "probability=heads/trial\n",
        "print(probability)"
      ],
      "metadata": {
        "colab": {
          "base_uri": "https://localhost:8080/"
        },
        "id": "iiweMeRIChPT",
        "outputId": "b2d09825-1d43-41b8-edb9-e37214a9724f"
      },
      "execution_count": null,
      "outputs": [
        {
          "output_type": "stream",
          "name": "stdout",
          "text": [
            "0.54\n"
          ]
        }
      ]
    },
    {
      "cell_type": "markdown",
      "source": [
        "#CONDITIONAL PROBABILITY"
      ],
      "metadata": {
        "id": "Ce35JxahEFt5"
      }
    },
    {
      "cell_type": "code",
      "source": [
        "#probability of getting king in cards\n",
        "facecards=12\n",
        "king=4\n",
        "probability=king/facecards\n",
        "print(probability)\n"
      ],
      "metadata": {
        "colab": {
          "base_uri": "https://localhost:8080/"
        },
        "id": "dNGQ5VLpDuRc",
        "outputId": "9d4cfa5a-717f-4444-cd03-653ef02050ff"
      },
      "execution_count": null,
      "outputs": [
        {
          "output_type": "stream",
          "name": "stdout",
          "text": [
            "0.3333333333333333\n"
          ]
        }
      ]
    },
    {
      "cell_type": "markdown",
      "source": [
        "#ADDITION RULE"
      ],
      "metadata": {
        "id": "ZqAWtERkEnd1"
      }
    },
    {
      "cell_type": "code",
      "source": [
        "even=3/6\n",
        "odd=1/6\n",
        "evenorodd=even+odd\n",
        "print(evenorodd)"
      ],
      "metadata": {
        "colab": {
          "base_uri": "https://localhost:8080/"
        },
        "id": "HRtazHo5EV0X",
        "outputId": "40474ab9-d220-4d6d-a5b0-072219762bf7"
      },
      "execution_count": null,
      "outputs": [
        {
          "output_type": "stream",
          "name": "stdout",
          "text": [
            "0.6666666666666666\n"
          ]
        }
      ]
    },
    {
      "cell_type": "markdown",
      "source": [
        "#MULTIPLICATION RULE(INDEPENDENT EVENTS)"
      ],
      "metadata": {
        "id": "Xso2MeboE68n"
      }
    },
    {
      "cell_type": "code",
      "source": [
        "prob=0.5\n",
        "probtwoheads=prob*prob\n",
        "print(probtwoheads)"
      ],
      "metadata": {
        "colab": {
          "base_uri": "https://localhost:8080/"
        },
        "id": "ru6im_ohE2qV",
        "outputId": "4275f699-7a5a-4839-ab52-243d96913c32"
      },
      "execution_count": null,
      "outputs": [
        {
          "output_type": "stream",
          "name": "stdout",
          "text": [
            "0.25\n"
          ]
        }
      ]
    },
    {
      "cell_type": "markdown",
      "source": [
        "#DEPENDENT EVENTS"
      ],
      "metadata": {
        "id": "0xWxfD0nFh-B"
      }
    },
    {
      "cell_type": "code",
      "source": [
        "#calculate the probability of drawing two aces without replacement from a deck of 52 cards\n",
        "total_cards = 52\n",
        "ace_cards = 4\n",
        "\n",
        "prob_first_ace = ace_cards / total_cards\n",
        "prob_second_ace = (ace_cards - 1) / (total_cards - 1)\n",
        "\n",
        "prob_two_aces = prob_first_ace * prob_second_ace\n",
        "\n",
        "print(prob_two_aces)"
      ],
      "metadata": {
        "colab": {
          "base_uri": "https://localhost:8080/"
        },
        "id": "Nd0SBL8GFMOb",
        "outputId": "228098e3-58c8-401d-d1a3-5a1e7f5771df"
      },
      "execution_count": null,
      "outputs": [
        {
          "output_type": "stream",
          "name": "stdout",
          "text": [
            "0.004524886877828055\n"
          ]
        }
      ]
    },
    {
      "cell_type": "markdown",
      "source": [
        "#CLASSWORK"
      ],
      "metadata": {
        "id": "osmI_sxjGHnW"
      }
    },
    {
      "cell_type": "code",
      "source": [
        "# A standard deck has 52 cards. There are 12 face cards (Jack, Queen, King – 4 of each).\n",
        "# What is the probability that a card is a King given that it’s a face card?\n",
        "\n",
        "total=52\n",
        "probofface=12\n",
        "probofking=4\n",
        "\n",
        "totalprob=probofking/probofface\n",
        "print(totalprob)"
      ],
      "metadata": {
        "colab": {
          "base_uri": "https://localhost:8080/"
        },
        "id": "dbw0o--SFddh",
        "outputId": "c27cb50d-80f1-4871-c562-8bd3a76fdeb4"
      },
      "execution_count": null,
      "outputs": [
        {
          "output_type": "stream",
          "name": "stdout",
          "text": [
            "0.3333333333333333\n"
          ]
        }
      ]
    },
    {
      "cell_type": "code",
      "source": [
        "# Out of 100 days, it rained on 30 days.\n",
        "# On 25 of those rainy days, a person carried an umbrella.\n",
        "# What is the probability that they carried an umbrella given that it was raining?\n",
        "total=100\n",
        "totalraindays=30\n",
        "totalumbrelladays=25\n",
        "totalprob2=totalumbrelladays/totalraindays\n",
        "print(totalprob2)\n",
        "\n",
        "totalprob=totalumbrelladays/total\n",
        "totalprob1=totalraindays/total\n",
        "print(totalprob/totalprob1)"
      ],
      "metadata": {
        "colab": {
          "base_uri": "https://localhost:8080/"
        },
        "id": "0jFS34jlG2FW",
        "outputId": "571c1abc-ab35-4749-c813-947568dd9d18"
      },
      "execution_count": null,
      "outputs": [
        {
          "output_type": "stream",
          "name": "stdout",
          "text": [
            "0.8333333333333334\n",
            "0.8333333333333334\n"
          ]
        }
      ]
    },
    {
      "cell_type": "code",
      "source": [
        "# Out of 80 students, 50 studied for the exam.\n",
        "# Out of those 50, 45 passed.\n",
        "# What is the probability a student passed given that they studied?\n",
        "\n",
        "totalstud=80\n",
        "totalstudied=50\n",
        "totalpassed=45\n",
        "\n",
        "probofstudentpassed=totalpassed/totalstudied\n",
        "print(probofstudentpassed)\n",
        "\n",
        "a=totalstudied/totalstud\n",
        "b=totalpassed/totalstud\n",
        "print(b/a)"
      ],
      "metadata": {
        "colab": {
          "base_uri": "https://localhost:8080/"
        },
        "id": "FzU8Gg6bHWw8",
        "outputId": "e95ae5e5-c3da-4d88-9b5e-490ef20d3129"
      },
      "execution_count": null,
      "outputs": [
        {
          "output_type": "stream",
          "name": "stdout",
          "text": [
            "0.9\n",
            "0.9\n"
          ]
        }
      ]
    },
    {
      "cell_type": "code",
      "source": [
        "# Task 1: Calculate the theoretical probability of drawing a red card from a\n",
        "# standard deck of 52 cards (26 red cards). Print the result.\n",
        "\n",
        "total=52\n",
        "red=26\n",
        "\n",
        "prob=red/total\n",
        "print(prob)"
      ],
      "metadata": {
        "colab": {
          "base_uri": "https://localhost:8080/"
        },
        "id": "BiSZs8jhJIok",
        "outputId": "1e6fe156-8b07-4bf2-e91e-52aba9811d2e"
      },
      "execution_count": null,
      "outputs": [
        {
          "output_type": "stream",
          "name": "stdout",
          "text": [
            "0.5\n"
          ]
        }
      ]
    },
    {
      "cell_type": "code",
      "source": [
        "\n",
        "# Task 4: Calculate the probability of drawing a heart or a club from a deck (13\n",
        "# hearts, 13 clubs, mutually exclusive). Print the result.\n",
        "\n",
        "total=13+13\n",
        "heart=13\n",
        "club=13\n",
        "\n",
        "prob=heart/total+club/total\n",
        "print(prob)\n"
      ],
      "metadata": {
        "colab": {
          "base_uri": "https://localhost:8080/"
        },
        "id": "WLOyDAknJtKl",
        "outputId": "2ce4ef20-3340-45ab-d485-7c6be8ff5f32"
      },
      "execution_count": null,
      "outputs": [
        {
          "output_type": "stream",
          "name": "stdout",
          "text": [
            "1.0\n"
          ]
        }
      ]
    },
    {
      "cell_type": "code",
      "source": [
        "# Task 5: Calculate the probability of rolling a 6 twice in a row with a six-sided\n",
        "# die. Print the result.\n",
        "# Question: What is the probability of getting head on a coin toss and 7 on a 6-sided die roll?\n",
        "\n",
        "totaloutcome=6\n",
        "six=1\n",
        "\n",
        "totalprob=(six/totaloutcome)*(six/totaloutcome)\n",
        "print(totalprob)\n",
        "\n",
        "total=2\n",
        "head=1\n",
        "tail=1\n",
        "prob=head/total\n",
        "\n",
        "\n",
        "probof7=0\n",
        "\n",
        "total1=prob*probof7\n",
        "print(total1)"
      ],
      "metadata": {
        "colab": {
          "base_uri": "https://localhost:8080/"
        },
        "id": "W7Qm0aJ1KFpq",
        "outputId": "b2f77d8a-2f50-4036-e3e4-506d8e236a94"
      },
      "execution_count": null,
      "outputs": [
        {
          "output_type": "stream",
          "name": "stdout",
          "text": [
            "0.027777777777777776\n",
            "0.0\n"
          ]
        }
      ]
    },
    {
      "cell_type": "code",
      "source": [
        "# Task 6: Calculate the probability of drawing two red cards without replace-\n",
        "# ment from a deck (26 red cards, 52 total). Print the result."
      ],
      "metadata": {
        "id": "_aZQGjBsMVQo"
      },
      "execution_count": null,
      "outputs": []
    }
  ]
}