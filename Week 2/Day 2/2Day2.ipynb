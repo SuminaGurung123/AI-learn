{
  "nbformat": 4,
  "nbformat_minor": 0,
  "metadata": {
    "colab": {
      "provenance": []
    },
    "kernelspec": {
      "name": "python3",
      "display_name": "Python 3"
    },
    "language_info": {
      "name": "python"
    }
  },
  "cells": [
    {
      "cell_type": "markdown",
      "source": [
        "#Hands on pratice :Linear algebra for AI"
      ],
      "metadata": {
        "id": "QB3zWpMUyyEr"
      }
    },
    {
      "cell_type": "markdown",
      "source": [
        "#Working with scalar and vector"
      ],
      "metadata": {
        "id": "HisFcloty3Xs"
      }
    },
    {
      "cell_type": "code",
      "execution_count": 2,
      "metadata": {
        "id": "NsDzmKoHxiEF",
        "colab": {
          "base_uri": "https://localhost:8080/"
        },
        "outputId": "24287656-54b8-41be-d976-b8dbdf6ad13c"
      },
      "outputs": [
        {
          "output_type": "stream",
          "name": "stdout",
          "text": [
            "9\n",
            "[ 3  6  8 45 39]\n",
            "[ 27  54  72 405 351]\n"
          ]
        }
      ],
      "source": [
        "import numpy as np\n",
        "\n",
        "scalar=9\n",
        "print(scalar)\n",
        "\n",
        "vector=np.array([3,6,8,45,39])\n",
        "print(vector)\n",
        "\n",
        "scaled_vector=scalar*vector\n",
        "print(scaled_vector)"
      ]
    },
    {
      "cell_type": "markdown",
      "source": [
        "#Adding and Subtracting vector"
      ],
      "metadata": {
        "id": "wnt62dSXz3GB"
      }
    },
    {
      "cell_type": "code",
      "source": [
        "vector1=np.array([3,6,8,45,39])\n",
        "print(vector)\n",
        "\n",
        "vector2=np.array([3,6,8,45,39])\n",
        "print(vector)\n",
        "\n",
        "add=vector1+vector2\n",
        "print(add)\n",
        "\n",
        "sub=(vector1-vector2)\n",
        "print(sub)"
      ],
      "metadata": {
        "colab": {
          "base_uri": "https://localhost:8080/"
        },
        "id": "pYIsZTWvywtN",
        "outputId": "196a0052-1ce4-4e74-c2f5-eaf840c7432a"
      },
      "execution_count": 5,
      "outputs": [
        {
          "output_type": "stream",
          "name": "stdout",
          "text": [
            "[ 3  6  8 45 39]\n",
            "[ 6 12 16 90 78]\n",
            "[0 0 0 0 0]\n"
          ]
        }
      ]
    },
    {
      "cell_type": "markdown",
      "source": [
        "#HW"
      ],
      "metadata": {
        "id": "sERhT2O20u6D"
      }
    },
    {
      "cell_type": "code",
      "source": [
        "vector1=np.array([4,5,6])\n",
        "print(3*vector1)"
      ],
      "metadata": {
        "id": "3I0KxJyU0sMX"
      },
      "execution_count": null,
      "outputs": []
    },
    {
      "cell_type": "code",
      "source": [
        "v1=np.array([10,20])\n",
        "v2=np.array([30,40])\n",
        "\n",
        "addition=v1+v2\n",
        "print(addition)\n",
        "\n",
        "subtract=v1-v2\n",
        "print(subtract)\n"
      ],
      "metadata": {
        "colab": {
          "base_uri": "https://localhost:8080/"
        },
        "id": "hpIJe_xU02fS",
        "outputId": "b4acdcd7-9ebc-44aa-c4ff-caad27a3f165"
      },
      "execution_count": 16,
      "outputs": [
        {
          "output_type": "stream",
          "name": "stdout",
          "text": [
            "[40 60]\n",
            "[-20 -20]\n"
          ]
        }
      ]
    },
    {
      "cell_type": "code",
      "source": [
        "matrix1=np.array([[1,0],[0,1]])\n",
        "matrix2=np.array([[2,3],[5,6]])\n",
        "\n",
        "\n",
        "print(np.dot(matrix1,matrix2))\n"
      ],
      "metadata": {
        "colab": {
          "base_uri": "https://localhost:8080/"
        },
        "id": "lHO2COyY3ARS",
        "outputId": "4232b624-c2e8-40ed-bab2-84db8c8ed0e1"
      },
      "execution_count": 21,
      "outputs": [
        {
          "output_type": "stream",
          "name": "stdout",
          "text": [
            "[[2 3]\n",
            " [5 6]]\n"
          ]
        }
      ]
    },
    {
      "cell_type": "markdown",
      "source": [
        "#MATRIX CREATION AND SIMPLE OPERATION"
      ],
      "metadata": {
        "id": "YCEEirtP1blo"
      }
    },
    {
      "cell_type": "code",
      "source": [
        "matrix1=np.array([[1,2,3],[4,5,6],[7,8,9]])\n",
        "print(matrix1)\n",
        "\n",
        "matrix2=np.array([[1,2,3],[4,5,6],[7,8,9]])\n",
        "print(matrix2)\n",
        "\n",
        "add=matrix1+matrix2\n",
        "print(add)\n",
        "\n",
        "sub=matrix1-matrix2\n",
        "print(sub)\n",
        "\n",
        "print(np.dot(matrix1,matrix2))#matrix multiplication"
      ],
      "metadata": {
        "colab": {
          "base_uri": "https://localhost:8080/"
        },
        "id": "ZKhWfeUF0_Wv",
        "outputId": "0859296f-ffb4-4071-c5f9-387522006920"
      },
      "execution_count": 19,
      "outputs": [
        {
          "output_type": "stream",
          "name": "stdout",
          "text": [
            "[[1 2 3]\n",
            " [4 5 6]\n",
            " [7 8 9]]\n",
            "[[1 2 3]\n",
            " [4 5 6]\n",
            " [7 8 9]]\n",
            "[[ 2  4  6]\n",
            " [ 8 10 12]\n",
            " [14 16 18]]\n",
            "[[0 0 0]\n",
            " [0 0 0]\n",
            " [0 0 0]]\n",
            "[[ 30  36  42]\n",
            " [ 66  81  96]\n",
            " [102 126 150]]\n"
          ]
        }
      ]
    },
    {
      "cell_type": "code",
      "source": [
        "a=np.array([[1,2],[3,4]])\n",
        "b=np.array([[5,6],[7,8]])\n",
        "\n",
        "c=a[0,0]*b[0,0]\n",
        "d=a[0,1]*b[1,0]\n",
        "x=c+d\n",
        "print(x)\n",
        "e=a[0,0]*b[0,1]\n",
        "f=a[0,1]*b[1,1]\n",
        "y=e+f\n",
        "print(y)\n",
        "\n",
        "g=a[1,0]*b[0,0]\n",
        "h=a[1,1]*b[1,0]\n",
        "z=g+h\n",
        "print(z)\n",
        "i=a[1,0]*b[0,1]\n",
        "j=a[1,1]*b[1,1]\n",
        "w=i+j\n",
        "print(w)\n",
        "\n",
        "\n",
        "\n",
        "matrix=np.array([[x,y],[z,w]])\n",
        "print(matrix)\n",
        "\n",
        "print(np.dot(a,b))"
      ],
      "metadata": {
        "colab": {
          "base_uri": "https://localhost:8080/"
        },
        "id": "cUnHP3DE17Rt",
        "outputId": "dd79bb5b-89e2-4931-bcd0-3fd84659935b"
      },
      "execution_count": 32,
      "outputs": [
        {
          "output_type": "stream",
          "name": "stdout",
          "text": [
            "19\n",
            "22\n",
            "43\n",
            "50\n",
            "[[19 22]\n",
            " [43 50]]\n",
            "[[19 22]\n",
            " [43 50]]\n"
          ]
        }
      ]
    },
    {
      "cell_type": "code",
      "source": [
        "v1=np.array([7,8,9])\n",
        "result=2*v1\n",
        "print(result)"
      ],
      "metadata": {
        "colab": {
          "base_uri": "https://localhost:8080/"
        },
        "id": "raxPH0mO7KFI",
        "outputId": "ab6e8b47-6b80-407f-a704-be28af8f9c5a"
      },
      "execution_count": 33,
      "outputs": [
        {
          "output_type": "stream",
          "name": "stdout",
          "text": [
            "[14 16 18]\n"
          ]
        }
      ]
    },
    {
      "cell_type": "code",
      "source": [
        "v1=np.array([3,4])\n",
        "v2=np.array([1,2])\n",
        "\n",
        "addition=v1+v2\n",
        "print(addition)\n",
        "\n",
        "subtract=v1-v2\n",
        "print(subtract)"
      ],
      "metadata": {
        "colab": {
          "base_uri": "https://localhost:8080/"
        },
        "id": "v6eAnj1F9h8s",
        "outputId": "0f00269b-449c-4ae7-f28a-1be193357289"
      },
      "execution_count": 34,
      "outputs": [
        {
          "output_type": "stream",
          "name": "stdout",
          "text": [
            "[4 6]\n",
            "[2 2]\n"
          ]
        }
      ]
    },
    {
      "cell_type": "code",
      "source": [
        "a=np.array([[0,1],[2,3]])\n",
        "b=np.array([[4,5],[6,7]])\n",
        "\n",
        "result=a+b\n",
        "print(result)"
      ],
      "metadata": {
        "colab": {
          "base_uri": "https://localhost:8080/"
        },
        "id": "WNL0xOAz9q0z",
        "outputId": "62703a63-b6dc-483d-a7da-2db8b4c7d53b"
      },
      "execution_count": 38,
      "outputs": [
        {
          "output_type": "stream",
          "name": "stdout",
          "text": [
            "[[ 4  6]\n",
            " [ 8 10]]\n"
          ]
        }
      ]
    },
    {
      "cell_type": "code",
      "source": [
        "a=np.array([[2,1],[0,3]])\n",
        "b=np.array([[1,2],[3,4]])\n",
        "\n",
        "print(np.dot(a,b))"
      ],
      "metadata": {
        "colab": {
          "base_uri": "https://localhost:8080/"
        },
        "id": "4xvbCYWi9zr2",
        "outputId": "ed45ad37-a9cc-4f78-fa7e-9add2c9067e3"
      },
      "execution_count": 39,
      "outputs": [
        {
          "output_type": "stream",
          "name": "stdout",
          "text": [
            "[[ 5  8]\n",
            " [ 9 12]]\n"
          ]
        }
      ]
    },
    {
      "cell_type": "code",
      "source": [
        "a=np.array([[5,10,15],[20,25,30]])\n",
        "print(a.T)\n",
        "\n",
        "#it can't be identity because there should be same no of rows and col\n",
        "#b =np.linalg.inv(a)\n",
        "#print(a.b)"
      ],
      "metadata": {
        "colab": {
          "base_uri": "https://localhost:8080/",
          "height": 391
        },
        "id": "Lgb6JQta-Tl2",
        "outputId": "63bb4fe0-0498-4d75-c9c5-84bdb48556fd"
      },
      "execution_count": 43,
      "outputs": [
        {
          "output_type": "stream",
          "name": "stdout",
          "text": [
            "[[ 5 20]\n",
            " [10 25]\n",
            " [15 30]]\n"
          ]
        },
        {
          "output_type": "error",
          "ename": "LinAlgError",
          "evalue": "Last 2 dimensions of the array must be square",
          "traceback": [
            "\u001b[0;31m---------------------------------------------------------------------------\u001b[0m",
            "\u001b[0;31mLinAlgError\u001b[0m                               Traceback (most recent call last)",
            "\u001b[0;32m<ipython-input-43-d102f4e3e4b8>\u001b[0m in \u001b[0;36m<cell line: 0>\u001b[0;34m()\u001b[0m\n\u001b[1;32m      2\u001b[0m \u001b[0mprint\u001b[0m\u001b[0;34m(\u001b[0m\u001b[0ma\u001b[0m\u001b[0;34m.\u001b[0m\u001b[0mT\u001b[0m\u001b[0;34m)\u001b[0m\u001b[0;34m\u001b[0m\u001b[0;34m\u001b[0m\u001b[0m\n\u001b[1;32m      3\u001b[0m \u001b[0;34m\u001b[0m\u001b[0m\n\u001b[0;32m----> 4\u001b[0;31m \u001b[0mb\u001b[0m \u001b[0;34m=\u001b[0m\u001b[0mnp\u001b[0m\u001b[0;34m.\u001b[0m\u001b[0mlinalg\u001b[0m\u001b[0;34m.\u001b[0m\u001b[0minv\u001b[0m\u001b[0;34m(\u001b[0m\u001b[0ma\u001b[0m\u001b[0;34m)\u001b[0m\u001b[0;34m\u001b[0m\u001b[0;34m\u001b[0m\u001b[0m\n\u001b[0m\u001b[1;32m      5\u001b[0m \u001b[0mprint\u001b[0m\u001b[0;34m(\u001b[0m\u001b[0ma\u001b[0m\u001b[0;34m.\u001b[0m\u001b[0mb\u001b[0m\u001b[0;34m)\u001b[0m\u001b[0;34m\u001b[0m\u001b[0;34m\u001b[0m\u001b[0m\n",
            "\u001b[0;32m/usr/local/lib/python3.11/dist-packages/numpy/linalg/_linalg.py\u001b[0m in \u001b[0;36minv\u001b[0;34m(a)\u001b[0m\n\u001b[1;32m    600\u001b[0m     \u001b[0ma\u001b[0m\u001b[0;34m,\u001b[0m \u001b[0mwrap\u001b[0m \u001b[0;34m=\u001b[0m \u001b[0m_makearray\u001b[0m\u001b[0;34m(\u001b[0m\u001b[0ma\u001b[0m\u001b[0;34m)\u001b[0m\u001b[0;34m\u001b[0m\u001b[0;34m\u001b[0m\u001b[0m\n\u001b[1;32m    601\u001b[0m     \u001b[0m_assert_stacked_2d\u001b[0m\u001b[0;34m(\u001b[0m\u001b[0ma\u001b[0m\u001b[0;34m)\u001b[0m\u001b[0;34m\u001b[0m\u001b[0;34m\u001b[0m\u001b[0m\n\u001b[0;32m--> 602\u001b[0;31m     \u001b[0m_assert_stacked_square\u001b[0m\u001b[0;34m(\u001b[0m\u001b[0ma\u001b[0m\u001b[0;34m)\u001b[0m\u001b[0;34m\u001b[0m\u001b[0;34m\u001b[0m\u001b[0m\n\u001b[0m\u001b[1;32m    603\u001b[0m     \u001b[0mt\u001b[0m\u001b[0;34m,\u001b[0m \u001b[0mresult_t\u001b[0m \u001b[0;34m=\u001b[0m \u001b[0m_commonType\u001b[0m\u001b[0;34m(\u001b[0m\u001b[0ma\u001b[0m\u001b[0;34m)\u001b[0m\u001b[0;34m\u001b[0m\u001b[0;34m\u001b[0m\u001b[0m\n\u001b[1;32m    604\u001b[0m \u001b[0;34m\u001b[0m\u001b[0m\n",
            "\u001b[0;32m/usr/local/lib/python3.11/dist-packages/numpy/linalg/_linalg.py\u001b[0m in \u001b[0;36m_assert_stacked_square\u001b[0;34m(*arrays)\u001b[0m\n\u001b[1;32m    200\u001b[0m         \u001b[0mm\u001b[0m\u001b[0;34m,\u001b[0m \u001b[0mn\u001b[0m \u001b[0;34m=\u001b[0m \u001b[0ma\u001b[0m\u001b[0;34m.\u001b[0m\u001b[0mshape\u001b[0m\u001b[0;34m[\u001b[0m\u001b[0;34m-\u001b[0m\u001b[0;36m2\u001b[0m\u001b[0;34m:\u001b[0m\u001b[0;34m]\u001b[0m\u001b[0;34m\u001b[0m\u001b[0;34m\u001b[0m\u001b[0m\n\u001b[1;32m    201\u001b[0m         \u001b[0;32mif\u001b[0m \u001b[0mm\u001b[0m \u001b[0;34m!=\u001b[0m \u001b[0mn\u001b[0m\u001b[0;34m:\u001b[0m\u001b[0;34m\u001b[0m\u001b[0;34m\u001b[0m\u001b[0m\n\u001b[0;32m--> 202\u001b[0;31m             \u001b[0;32mraise\u001b[0m \u001b[0mLinAlgError\u001b[0m\u001b[0;34m(\u001b[0m\u001b[0;34m'Last 2 dimensions of the array must be square'\u001b[0m\u001b[0;34m)\u001b[0m\u001b[0;34m\u001b[0m\u001b[0;34m\u001b[0m\u001b[0m\n\u001b[0m\u001b[1;32m    203\u001b[0m \u001b[0;34m\u001b[0m\u001b[0m\n\u001b[1;32m    204\u001b[0m \u001b[0;32mdef\u001b[0m \u001b[0m_assert_finite\u001b[0m\u001b[0;34m(\u001b[0m\u001b[0;34m*\u001b[0m\u001b[0marrays\u001b[0m\u001b[0;34m)\u001b[0m\u001b[0;34m:\u001b[0m\u001b[0;34m\u001b[0m\u001b[0;34m\u001b[0m\u001b[0m\n",
            "\u001b[0;31mLinAlgError\u001b[0m: Last 2 dimensions of the array must be square"
          ]
        }
      ]
    },
    {
      "cell_type": "code",
      "source": [],
      "metadata": {
        "id": "oy6qoxvY-iku"
      },
      "execution_count": null,
      "outputs": []
    }
  ]
}